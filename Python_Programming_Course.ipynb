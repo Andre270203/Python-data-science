{
 "cells": [
  {
   "cell_type": "markdown",
   "metadata": {},
   "source": [
    "This is my first markdown"
   ]
  },
  {
   "cell_type": "code",
   "execution_count": 3,
   "metadata": {},
   "outputs": [
    {
     "name": "stdout",
     "output_type": "stream",
     "text": [
      "Welcome to the course\n"
     ]
    }
   ],
   "source": [
    "print(\"Welcome to the course\") # Here I added a comment"
   ]
  },
  {
   "cell_type": "code",
   "execution_count": 2,
   "metadata": {},
   "outputs": [],
   "source": [
    "# This is a comment"
   ]
  },
  {
   "cell_type": "markdown",
   "metadata": {},
   "source": [
    "Variables and data types"
   ]
  },
  {
   "cell_type": "code",
   "execution_count": 5,
   "metadata": {},
   "outputs": [
    {
     "data": {
      "text/plain": [
       "str"
      ]
     },
     "execution_count": 5,
     "metadata": {},
     "output_type": "execute_result"
    }
   ],
   "source": [
    "name = \"Pedro\"\n",
    "type(name)"
   ]
  },
  {
   "cell_type": "code",
   "execution_count": 6,
   "metadata": {},
   "outputs": [
    {
     "data": {
      "text/plain": [
       "int"
      ]
     },
     "execution_count": 6,
     "metadata": {},
     "output_type": "execute_result"
    }
   ],
   "source": [
    "age = 21\n",
    "type(age)"
   ]
  },
  {
   "cell_type": "code",
   "execution_count": 7,
   "metadata": {},
   "outputs": [
    {
     "data": {
      "text/plain": [
       "float"
      ]
     },
     "execution_count": 7,
     "metadata": {},
     "output_type": "execute_result"
    }
   ],
   "source": [
    "#float \n",
    "height = 1.70\n",
    "type(height)"
   ]
  },
  {
   "cell_type": "code",
   "execution_count": 8,
   "metadata": {},
   "outputs": [
    {
     "data": {
      "text/plain": [
       "bool"
      ]
     },
     "execution_count": 8,
     "metadata": {},
     "output_type": "execute_result"
    }
   ],
   "source": [
    "is_student = False\n",
    "type(is_student)"
   ]
  },
  {
   "cell_type": "markdown",
   "metadata": {},
   "source": [
    "Operators"
   ]
  },
  {
   "cell_type": "code",
   "execution_count": 9,
   "metadata": {},
   "outputs": [],
   "source": [
    "num1 = 10\n",
    "num2 = 5"
   ]
  },
  {
   "cell_type": "code",
   "execution_count": 10,
   "metadata": {},
   "outputs": [
    {
     "data": {
      "text/plain": [
       "15"
      ]
     },
     "execution_count": 10,
     "metadata": {},
     "output_type": "execute_result"
    }
   ],
   "source": [
    "addition = num1 + num2\n",
    "addition"
   ]
  },
  {
   "cell_type": "code",
   "execution_count": 11,
   "metadata": {},
   "outputs": [
    {
     "data": {
      "text/plain": [
       "5"
      ]
     },
     "execution_count": 11,
     "metadata": {},
     "output_type": "execute_result"
    }
   ],
   "source": [
    "substraction = num1- num2\n",
    "substraction"
   ]
  },
  {
   "cell_type": "code",
   "execution_count": 12,
   "metadata": {},
   "outputs": [
    {
     "data": {
      "text/plain": [
       "50"
      ]
     },
     "execution_count": 12,
     "metadata": {},
     "output_type": "execute_result"
    }
   ],
   "source": [
    "multiplication = num1 * num2\n",
    "multiplication"
   ]
  },
  {
   "cell_type": "code",
   "execution_count": 13,
   "metadata": {},
   "outputs": [
    {
     "data": {
      "text/plain": [
       "2.0"
      ]
     },
     "execution_count": 13,
     "metadata": {},
     "output_type": "execute_result"
    }
   ],
   "source": [
    "Division = num1 / num2\n",
    "Division"
   ]
  },
  {
   "cell_type": "code",
   "execution_count": 14,
   "metadata": {},
   "outputs": [
    {
     "data": {
      "text/plain": [
       "100000"
      ]
     },
     "execution_count": 14,
     "metadata": {},
     "output_type": "execute_result"
    }
   ],
   "source": [
    "exponentiation = num1 ** num2\n",
    "exponentiation"
   ]
  },
  {
   "cell_type": "code",
   "execution_count": 15,
   "metadata": {},
   "outputs": [
    {
     "data": {
      "text/plain": [
       "16.25"
      ]
     },
     "execution_count": 15,
     "metadata": {},
     "output_type": "execute_result"
    }
   ],
   "source": [
    "#Order of the operations\n",
    "\n",
    "#Parenthesis - exponents- Multiplication - Division\n",
    "#Addition - Substraction\n",
    "\n",
    "Pemdas = (num1 +3) * num2 / 2 **2\n",
    "Pemdas"
   ]
  },
  {
   "cell_type": "code",
   "execution_count": 17,
   "metadata": {},
   "outputs": [
    {
     "data": {
      "text/plain": [
       "5"
      ]
     },
     "execution_count": 17,
     "metadata": {},
     "output_type": "execute_result"
    }
   ],
   "source": [
    "Total = 0\n",
    "Total += 5\n",
    "Total"
   ]
  },
  {
   "cell_type": "code",
   "execution_count": 18,
   "metadata": {},
   "outputs": [
    {
     "data": {
      "text/plain": [
       "3"
      ]
     },
     "execution_count": 18,
     "metadata": {},
     "output_type": "execute_result"
    }
   ],
   "source": [
    "Total -= 2\n",
    "Total"
   ]
  },
  {
   "cell_type": "code",
   "execution_count": 19,
   "metadata": {},
   "outputs": [
    {
     "data": {
      "text/plain": [
       "9"
      ]
     },
     "execution_count": 19,
     "metadata": {},
     "output_type": "execute_result"
    }
   ],
   "source": [
    "Total *= 3\n",
    "Total"
   ]
  },
  {
   "cell_type": "code",
   "execution_count": 23,
   "metadata": {},
   "outputs": [
    {
     "name": "stdout",
     "output_type": "stream",
     "text": [
      "False\n"
     ]
    },
    {
     "data": {
      "text/plain": [
       "True"
      ]
     },
     "execution_count": 23,
     "metadata": {},
     "output_type": "execute_result"
    }
   ],
   "source": [
    "x = 5 \n",
    "y = 10\n",
    "\n",
    "result1 = x==y #Equal\n",
    "print(result1)\n",
    "\n",
    "result2 = x != y #Not Equal\n",
    "result2"
   ]
  },
  {
   "cell_type": "code",
   "execution_count": 24,
   "metadata": {},
   "outputs": [
    {
     "name": "stdout",
     "output_type": "stream",
     "text": [
      "True\n",
      "False\n",
      "True\n",
      "False\n"
     ]
    }
   ],
   "source": [
    "a = 15\n",
    "b = 20\n",
    "\n",
    "result1 = a < b\n",
    "print(result1)\n",
    "\n",
    "result2 = a > b \n",
    "print(result2)\n",
    "\n",
    "result3 = a <= b \n",
    "print(result3)\n",
    "\n",
    "result4 = a >= b \n",
    "print(result4)"
   ]
  },
  {
   "cell_type": "code",
   "execution_count": 25,
   "metadata": {},
   "outputs": [
    {
     "data": {
      "text/plain": [
       "True"
      ]
     },
     "execution_count": 25,
     "metadata": {},
     "output_type": "execute_result"
    }
   ],
   "source": [
    "num = 25\n",
    "\n",
    "result = 10 <= num <= 30\n",
    "result"
   ]
  },
  {
   "cell_type": "code",
   "execution_count": 27,
   "metadata": {},
   "outputs": [
    {
     "data": {
      "text/plain": [
       "False"
      ]
     },
     "execution_count": 27,
     "metadata": {},
     "output_type": "execute_result"
    }
   ],
   "source": [
    "var1 = 10\n",
    "var2 = 10\n",
    "\n",
    "result1 = var1 is var2\n",
    "result1\n",
    "\n",
    "result2 = var1 is not var2\n",
    "result2"
   ]
  },
  {
   "cell_type": "code",
   "execution_count": 32,
   "metadata": {},
   "outputs": [
    {
     "name": "stdout",
     "output_type": "stream",
     "text": [
      "14\n",
      "H\n",
      "!\n",
      "Python!\n",
      "Hello, Python! Welcome\n"
     ]
    }
   ],
   "source": [
    "greeting = \"Hello, Python!\"\n",
    "print(len(greeting))\n",
    "print(greeting[0])\n",
    "print(greeting[-1])\n",
    "print(greeting[7:14])\n",
    "print(greeting + \" \" + \"Welcome\")"
   ]
  },
  {
   "cell_type": "code",
   "execution_count": 34,
   "metadata": {},
   "outputs": [
    {
     "name": "stdout",
     "output_type": "stream",
     "text": [
      "PYTHON IS AMAZING PROGRAMMING LANGUAGE\n",
      "python is amazing programming language\n",
      "10\n",
      "Python is powerful programming language\n",
      "Python is amazing programming language\n",
      "Python is powerful programming language\n",
      "2\n"
     ]
    }
   ],
   "source": [
    "sentence = \"Python is amazing programming language\"\n",
    "print(sentence.upper())\n",
    "print(sentence.lower())\n",
    "print(sentence.find(\"amazing\"))\n",
    "print(sentence.replace(\"amazing\", \"powerful\"))\n",
    "print(sentence)\n",
    "sentence = sentence.replace(\"amazing\", \"powerful\")\n",
    "print(sentence)\n",
    "print(sentence.count(\"i\"))"
   ]
  },
  {
   "cell_type": "code",
   "execution_count": 37,
   "metadata": {},
   "outputs": [
    {
     "name": "stdout",
     "output_type": "stream",
     "text": [
      "Hello, my name is Jack and I'm 30 years old\n",
      "Hello, my name is Jack and I'm 30 years old\n"
     ]
    }
   ],
   "source": [
    "name =\"Jack\"\n",
    "age = 30\n",
    "\n",
    "formatted_string = f\"Hello, my name is {name} and I'm {age} years old\"\n",
    "print(formatted_string)\n",
    "\n",
    "formatted_string2 = \"Hello, my name is {} and I'm {} years old\".format(name, age)\n",
    "print(formatted_string2)"
   ]
  },
  {
   "cell_type": "code",
   "execution_count": 39,
   "metadata": {},
   "outputs": [
    {
     "name": "stdout",
     "output_type": "stream",
     "text": [
      "You are not an adult.\n"
     ]
    }
   ],
   "source": [
    "age = 15\n",
    "if age >= 18:\n",
    "    print(\"You are an adult.\")\n",
    "else:\n",
    "    print(\"You are not an adult.\")"
   ]
  },
  {
   "cell_type": "code",
   "execution_count": 40,
   "metadata": {},
   "outputs": [
    {
     "name": "stdout",
     "output_type": "stream",
     "text": [
      "The weather is ok\n"
     ]
    }
   ],
   "source": [
    "temperature = 28\n",
    "\n",
    "if temperature > 30:\n",
    "    print(\"It's hot outside! Stay hydrated!\")\n",
    "elif 20 <= temperature <= 30:\n",
    "    print(\"The weather is ok\")\n",
    "else:\n",
    "    print(\"it's a cold day\")"
   ]
  },
  {
   "cell_type": "code",
   "execution_count": 41,
   "metadata": {},
   "outputs": [
    {
     "name": "stdout",
     "output_type": "stream",
     "text": [
      "Take an umbrella\n"
     ]
    }
   ],
   "source": [
    "is_raining = True\n",
    "is_cold = False\n",
    "\n",
    "if is_raining:\n",
    "    print(\"Take an umbrella\")\n",
    "    if is_cold:\n",
    "        print(\"wear a jacket too\")\n",
    "else: print(\"Enjoy the day\")"
   ]
  },
  {
   "cell_type": "code",
   "execution_count": 42,
   "metadata": {},
   "outputs": [
    {
     "data": {
      "text/plain": [
       "'Yu are allowed'"
      ]
     },
     "execution_count": 42,
     "metadata": {},
     "output_type": "execute_result"
    }
   ],
   "source": [
    "age = 18\n",
    "\n",
    "\"Yu are allowed\" if age>=18 else \"You are not allowed\""
   ]
  },
  {
   "cell_type": "code",
   "execution_count": 44,
   "metadata": {},
   "outputs": [
    {
     "name": "stdout",
     "output_type": "stream",
     "text": [
      "apple\n",
      "banana\n",
      "cherry\n",
      "Number: 1\n",
      "Number: 2\n",
      "Number: 3\n"
     ]
    }
   ],
   "source": [
    "fruits = [\"apple\", \"banana\", \"cherry\"]\n",
    "\n",
    "for i in fruits:\n",
    "    print(i)\n",
    "\n",
    "for number in range(1,4):\n",
    "    print(f\"Number: {number}\")"
   ]
  },
  {
   "cell_type": "code",
   "execution_count": 45,
   "metadata": {},
   "outputs": [
    {
     "name": "stdout",
     "output_type": "stream",
     "text": [
      "Count: 0\n",
      "Count: 1\n",
      "Count: 2\n"
     ]
    }
   ],
   "source": [
    "count = 0 \n",
    "\n",
    "while count < 3:\n",
    "    print(f\"Count: {count}\")\n",
    "    count +=1"
   ]
  },
  {
   "cell_type": "code",
   "execution_count": 49,
   "metadata": {},
   "outputs": [
    {
     "name": "stdout",
     "output_type": "stream",
     "text": [
      "1\n",
      "Number: 1\n",
      "Number: 2\n",
      "number: 1\n",
      "number: 3\n",
      "number: 4\n",
      "number: 5\n"
     ]
    }
   ],
   "source": [
    "#List\n",
    "numbers = [1,2,3,4,5]\n",
    "print(numbers[0])\n",
    "\n",
    "for number in numbers:\n",
    "    if number == 3:\n",
    "        break\n",
    "    print(f\"Number: {number}\")\n",
    "\n",
    "for number in numbers:\n",
    "    if number/2 == 1:\n",
    "        continue\n",
    "    print(f\"number: {number}\")"
   ]
  },
  {
   "cell_type": "code",
   "execution_count": 51,
   "metadata": {},
   "outputs": [
    {
     "name": "stdout",
     "output_type": "stream",
     "text": [
      "['apple', 'banana', 'Cherry']\n",
      "['apple', 'banana', 'Cherry', 'grape']\n",
      "['apple', 'banana', 'grape']\n"
     ]
    }
   ],
   "source": [
    "fruits = [\"apple\", \"banana\", \"Cherry\"]\n",
    "print(fruits)\n",
    "\n",
    "fruits.append(\"grape\")\n",
    "print(fruits)\n",
    "\n",
    "fruits.pop(2)\n",
    "print(fruits)\n"
   ]
  },
  {
   "cell_type": "code",
   "execution_count": 52,
   "metadata": {},
   "outputs": [
    {
     "name": "stdout",
     "output_type": "stream",
     "text": [
      "10\n"
     ]
    }
   ],
   "source": [
    "# Tuple\n",
    "dimensions = (10, 20, 15)\n",
    "print(dimensions[0])"
   ]
  },
  {
   "cell_type": "code",
   "execution_count": 55,
   "metadata": {},
   "outputs": [
    {
     "name": "stdout",
     "output_type": "stream",
     "text": [
      "{'name': 'André', 'age': 21, 'major': 'Data science', 'is_student': True}\n",
      "André\n",
      "{'name': 'André', 'age': 30, 'major': 'Data science', 'is_student': True}\n",
      "{'name': 'André', 'age': 30, 'major': 'Data science', 'is_student': True, 'grade': 'A'}\n",
      "{'name': 'André', 'age': 30, 'is_student': True, 'grade': 'A'}\n"
     ]
    }
   ],
   "source": [
    "# Dictionary\n",
    "#- A dictionary is a collection of key-value pairs. It is mutable and can be modified after\n",
    "\n",
    "student = {\n",
    "    \"name\": \"André\",\n",
    "    \"age\" : 21,\n",
    "    \"major\" : \"Data science\",\n",
    "    \"is_student\": True\n",
    "}\n",
    "print(student)\n",
    "\n",
    "print(student[\"name\"])\n",
    "\n",
    "student[\"age\"] = 30\n",
    "\n",
    "print(student)\n",
    "\n",
    "student[\"grade\"] = \"A\"\n",
    "print(student)\n",
    "\n",
    "removed_major = student.pop(\"major\")\n",
    "\n",
    "print(student)\n"
   ]
  },
  {
   "cell_type": "code",
   "execution_count": 56,
   "metadata": {},
   "outputs": [
    {
     "name": "stdout",
     "output_type": "stream",
     "text": [
      "True\n"
     ]
    }
   ],
   "source": [
    "#Sets\n",
    "\n",
    "color_set = {\"red\", \"blue\", \"green\", \"yellow\"}\n",
    "\n",
    "is_green_here = \"green\" in color_set\n",
    "print(is_green_here)\n"
   ]
  },
  {
   "cell_type": "code",
   "execution_count": 59,
   "metadata": {},
   "outputs": [
    {
     "name": "stdout",
     "output_type": "stream",
     "text": [
      "[0, 1, 4, 9, 16]\n",
      "[0, 1, 4, 9, 16]\n"
     ]
    }
   ],
   "source": [
    "#list comprenhension\n",
    "squares = []\n",
    "for num in range(5):\n",
    "    squares.append(num ** 2)\n",
    "\n",
    "print(squares)\n",
    "\n",
    "square_list_comprenhension = [num ** 2 for num in range(5)]\n",
    "print(square_list_comprenhension)"
   ]
  },
  {
   "cell_type": "markdown",
   "metadata": {},
   "source": [
    "nested data structures"
   ]
  },
  {
   "cell_type": "code",
   "execution_count": 64,
   "metadata": {},
   "outputs": [
    {
     "name": "stdout",
     "output_type": "stream",
     "text": [
      "[[1, 2, 3], [4, 5, 6], [7, 8, 9]]\n",
      "3\n",
      "5\n",
      "[[99, 2, 3], [4, 5, 6], [7, 8, 9]]\n",
      "[[99, 2, 3], [4, 5, 6], [7, 8, 9], [10, 11, 12]]\n"
     ]
    }
   ],
   "source": [
    "#List of List\n",
    "\n",
    "matrix = [[1,2,3], [4,5,6], [7,8,9]]\n",
    "print(matrix)\n",
    "\n",
    "print(len(matrix))\n",
    "print(matrix[1][1])\n",
    "\n",
    "matrix[0][0] = 99\n",
    "print(matrix)\n",
    "\n",
    "new_row = [10,11,12]\n",
    "matrix.append(new_row)\n",
    "print(matrix)"
   ]
  },
  {
   "cell_type": "code",
   "execution_count": 67,
   "metadata": {},
   "outputs": [
    {
     "name": "stdout",
     "output_type": "stream",
     "text": [
      "{'Alice': {'age': 22, 'major': 'mathematics'}, 'bob': {'age': 25, 'major': 'economics'}}\n",
      "22\n",
      "{'Alice': {'age': 25, 'major': 'mathematics'}, 'bob': {'age': 25, 'major': 'economics'}, 'Charlie': {'age': 20, 'major': 'science'}}\n"
     ]
    }
   ],
   "source": [
    "#dictionary of dictionary\n",
    "students = {\n",
    "    \"Alice\" : {\"age\":22, \"major\":\"mathematics\"},\n",
    "    \"bob\" : {\"age\":25, \"major\":\"economics\"},\n",
    "}\n",
    "\n",
    "print(students)\n",
    "\n",
    "print(students[\"Alice\"][\"age\"])\n",
    "\n",
    "students[\"Alice\"][\"age\"] = 25\n",
    "new_student = {\"age\":20, \"major\":\"science\"}\n",
    "students[\"Charlie\"] = new_student\n",
    "\n",
    "print(students)"
   ]
  },
  {
   "cell_type": "code",
   "execution_count": 72,
   "metadata": {},
   "outputs": [
    {
     "name": "stdout",
     "output_type": "stream",
     "text": [
      "<class 'list'>\n",
      "<class 'dict'>\n",
      "{'age': 20, 'major': 'science'}\n"
     ]
    }
   ],
   "source": [
    "people = [\n",
    "    {'Alice': {'age': 25, 'major': 'mathematics'}, \n",
    "    'bob': {'age': 25, 'major': 'economics'}, \n",
    "    'Charlie': {'age': 20, 'major': 'science'}}\n",
    "]\n",
    "\n",
    "print(type(people))\n",
    "print(type(people[0]))\n",
    "print(people[0][\"Charlie\"])\n"
   ]
  },
  {
   "cell_type": "markdown",
   "metadata": {},
   "source": [
    "Functions"
   ]
  },
  {
   "cell_type": "code",
   "execution_count": 81,
   "metadata": {},
   "outputs": [
    {
     "name": "stdout",
     "output_type": "stream",
     "text": [
      "Hello, world!\n",
      "Hello, André!\n",
      "Hello, Carlos!\n",
      "Hello, Charlie!\n",
      "25\n",
      "Area: 24, Perimeter: 20\n",
      "15\n",
      "9\n"
     ]
    }
   ],
   "source": [
    "def greet():\n",
    "    print(\"Hello, world!\")\n",
    "\n",
    "greet()\n",
    "\n",
    "def greet_person(name):\n",
    "    print(f\"Hello, {name}!\")\n",
    "\n",
    "greet_person(\"André\")\n",
    "\n",
    "def greet_with_defaults(name = \"Carlos\"):\n",
    "    print(f\"Hello, {name}!\")\n",
    "\n",
    "greet_with_defaults()\n",
    "greet_with_defaults(\"Charlie\")\n",
    "\n",
    "def square(number):\n",
    "    return number ** 2\n",
    "\n",
    "result = square(5)\n",
    "print(result)\n",
    "\n",
    "def calculate_rectangle_area(length, width):\n",
    "    area = length * width\n",
    "    perimeter = 2*(length + width)\n",
    "    return area, perimeter\n",
    "\n",
    "area, perimeter = calculate_rectangle_area(4,6)\n",
    "print(f\"Area: {area}, Perimeter: {perimeter}\")\n",
    "\n",
    "def calculate_sum(*args):\n",
    "    total = sum(args)\n",
    "    return total\n",
    "\n",
    "print(calculate_sum(1,2,3,4,5))\n",
    "\n",
    "square = lambda x: x ** 2\n",
    "result = square(3)\n",
    "print(result)"
   ]
  },
  {
   "cell_type": "code",
   "execution_count": 82,
   "metadata": {},
   "outputs": [
    {
     "data": {
      "text/plain": [
       "6"
      ]
     },
     "execution_count": 82,
     "metadata": {},
     "output_type": "execute_result"
    }
   ],
   "source": [
    "import random\n",
    "\n",
    "random.randint(1,20)"
   ]
  },
  {
   "cell_type": "code",
   "execution_count": 90,
   "metadata": {},
   "outputs": [
    {
     "name": "stdout",
     "output_type": "stream",
     "text": [
      "1\n",
      "[4, 2, 1, 5, 3]\n"
     ]
    }
   ],
   "source": [
    "from random import choice, shuffle\n",
    "\n",
    "my_list = [1,2,3,4,5]\n",
    "print(choice(my_list))\n",
    "\n",
    "shuffle(my_list)\n",
    "print(my_list)"
   ]
  },
  {
   "cell_type": "code",
   "execution_count": 91,
   "metadata": {},
   "outputs": [
    {
     "data": {
      "text/plain": [
       "3"
      ]
     },
     "execution_count": 91,
     "metadata": {},
     "output_type": "execute_result"
    }
   ],
   "source": [
    "import random as rnd\n",
    "\n",
    "rnd.randint(1,5)"
   ]
  },
  {
   "cell_type": "markdown",
   "metadata": {},
   "source": [
    "Class and object"
   ]
  },
  {
   "cell_type": "code",
   "execution_count": 92,
   "metadata": {},
   "outputs": [],
   "source": [
    "class Dog:\n",
    "    def __init__(self, name, age):\n",
    "        self.name = name\n",
    "        self.age = age \n",
    "\n",
    "    def bark(self):\n",
    "        print(f\"{self.name} says Woof!\")"
   ]
  },
  {
   "cell_type": "code",
   "execution_count": 95,
   "metadata": {},
   "outputs": [
    {
     "name": "stdout",
     "output_type": "stream",
     "text": [
      "Buddy\n",
      "3\n",
      "Max\n",
      "5\n",
      "Buddy says Woof!\n",
      "Max says Woof!\n"
     ]
    }
   ],
   "source": [
    "dog1 = Dog(\"Buddy\", 3)\n",
    "dog2 = Dog(\"Max\", 5)\n",
    "\n",
    "print(dog1.name)\n",
    "print(dog1.age)\n",
    "print(dog2.name)\n",
    "print(dog2.age)\n",
    "\n",
    "dog1.bark()\n",
    "dog2.bark()\n",
    "\n"
   ]
  }
 ],
 "metadata": {
  "kernelspec": {
   "display_name": "Python 3",
   "language": "python",
   "name": "python3"
  },
  "language_info": {
   "codemirror_mode": {
    "name": "ipython",
    "version": 3
   },
   "file_extension": ".py",
   "mimetype": "text/x-python",
   "name": "python",
   "nbconvert_exporter": "python",
   "pygments_lexer": "ipython3",
   "version": "3.12.3"
  }
 },
 "nbformat": 4,
 "nbformat_minor": 2
}
